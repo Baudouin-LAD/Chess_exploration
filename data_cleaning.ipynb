{
 "cells": [
  {
   "cell_type": "code",
   "execution_count": null,
   "metadata": {},
   "outputs": [],
   "source": [
    "#!/usr/bin/env python3\n",
    "# -*- coding: utf-8 -*-\n",
    "\"\"\"\n",
    "Created on Thu Mar  9 23:50:23 2023"
   ]
  },
  {
   "cell_type": "code",
   "execution_count": null,
   "metadata": {},
   "outputs": [],
   "source": [
    "@author: Baudouin\n",
    "\"\"\""
   ]
  },
  {
   "cell_type": "markdown",
   "metadata": {},
   "source": [
    "%Importing Libraries"
   ]
  },
  {
   "cell_type": "code",
   "execution_count": 2,
   "metadata": {},
   "outputs": [],
   "source": [
    "import pandas as pd\n",
    "import numpy as np"
   ]
  },
  {
   "cell_type": "markdown",
   "metadata": {},
   "source": [
    "%Importing data"
   ]
  },
  {
   "cell_type": "code",
   "execution_count": null,
   "metadata": {},
   "outputs": [],
   "source": [
    "table_1 = pd.read_csv('/Users/Baudouin/Desktop/Chess_exploration/dataset/table_1.csv')\n",
    "table_2 = pd.read_csv('/Users/Baudouin/Desktop/Chess_exploration/dataset/table_2.csv')\n",
    "table_3 = pd.read_excel('/Users/Baudouin/Desktop/Chess_exploration/dataset/Table_3.xlsx')\n",
    "table_4 = pd.read_csv('/Users/Baudouin/Desktop/Chess_exploration/dataset/table_4.csv')\n",
    "dataset = [table_1,table_2,table_3,table_4]"
   ]
  },
  {
   "cell_type": "markdown",
   "metadata": {},
   "source": [
    "%Data exploration"
   ]
  },
  {
   "cell_type": "code",
   "execution_count": null,
   "metadata": {},
   "outputs": [],
   "source": [
    "def inital_exploration(table):\n",
    "    print(table.info())\n",
    "    print(table.isnull().sum())\n",
    "    for col in table.columns.to_list():\n",
    "        print(table[col].value_counts())\n",
    "        \n",
    "for table in dataset:\n",
    "    print(f\"###{table}###\")\n",
    "    inital_exploration(table)\n",
    "    \n",
    "#Table 1 : process date and time, encode game_type, encode outcome\n",
    "#Table 2 : drop extra index col, rename columns, drop +- col, turn avg col in int\n",
    "#Table 3 : compare eco codes with values in table_1 drop extra index col\n",
    "#Table 4 : drop extra index col"
   ]
  },
  {
   "cell_type": "markdown",
   "metadata": {},
   "source": [
    "%Table 1<br>\n",
    "rop null values"
   ]
  },
  {
   "cell_type": "code",
   "execution_count": null,
   "metadata": {},
   "outputs": [],
   "source": [
    "table_1 = table_1.dropna()\n",
    "#manage date and time\n",
    "table_1['year']=table_1['date'].apply(lambda x : x.split('.')[0])\n",
    "table_1['month']=table_1['date'].apply(lambda x : x.split('.')[1])\n",
    "table_1['day']=table_1['date'].apply(lambda x : x.split('.')[2])\n",
    "table_1['hour']=table_1['time'].apply(lambda x : x.split(':')[0])\n",
    "table_1['minute']=table_1['time'].apply(lambda x : x.split(':')[1])\n",
    "table_1['second']=table_1['time'].apply(lambda x : x.split(':')[2])\n",
    "table_1.drop(['date','time'],axis=1,inplace=True)\n",
    "table_1['datetime'] = pd.to_datetime(table_1[['year', 'month', 'day', 'hour', 'minute', 'second']],\n",
    "                                format='%Y-%m-%d %H:%M:%S')\n",
    "table_1.drop(['year','month','day','hour','minute','second'],axis=1,inplace=True)"
   ]
  },
  {
   "cell_type": "markdown",
   "metadata": {},
   "source": [
    "ncode game type"
   ]
  },
  {
   "cell_type": "code",
   "execution_count": null,
   "metadata": {},
   "outputs": [],
   "source": [
    "def game_type(cell):\n",
    "    if '/' in cell :\n",
    "        gametype = 'daily'\n",
    "    elif '+' in cell:\n",
    "        if int(cell.split('+')[0])<600:\n",
    "            gametype = 'blitz bullet'\n",
    "        else :\n",
    "            gametype = 'rapid bullet'\n",
    "    elif int(cell)<600:\n",
    "        gametype = 'blitz'\n",
    "    elif int(cell)<=3600:\n",
    "        gametype='rapid'\n",
    "    else:\n",
    "        gametype='long'\n",
    "    return gametype\n",
    "        \n",
    "table_1['gt']=table_1['game_type']        \n",
    "table_1.drop('game_type',axis=1,inplace=True)\n",
    "table_1['game_type'] = table_1['gt'].apply(lambda x : game_type(x))       \n",
    "table_1['game_length_in_seconds']=table_1['gt'].apply( lambda x : '-' if '/' in x else x.split('+')[0])\n",
    "table_1.drop('gt',axis=1,inplace=True)   \n",
    "        \n",
    "#encode outcome\n",
    "def outcome(outcome, player_id, opponent):\n",
    "    if 'drawn' in outcome:\n",
    "        gameoutcome = 0.5\n",
    "    elif player_id in outcome:\n",
    "        gameoutcome = 1\n",
    "    elif opponent in outcome:\n",
    "        gameoutcome = 0\n",
    "    else:\n",
    "        gameoutcome = '-'\n",
    "    return gameoutcome"
   ]
  },
  {
   "cell_type": "code",
   "execution_count": null,
   "metadata": {},
   "outputs": [],
   "source": [
    "table_1['out'] = table_1['outcome']\n",
    "table_1.drop('outcome',axis=1,inplace=True)\n",
    "table_1['outcome'] = table_1.apply(lambda row : outcome(row['out'],row['player_id'],row['opponent']), axis=1)\n",
    "table_1['end'] = table_1['out'].apply(lambda x : x.split(' ')[-1])      \n",
    "table_1.drop('out',axis=1,inplace=True)      \n",
    "table_1.drop('Unnamed: 0',axis=1,inplace=True)   "
   ]
  },
  {
   "cell_type": "markdown",
   "metadata": {},
   "source": [
    "ncode game moves"
   ]
  },
  {
   "cell_type": "code",
   "execution_count": null,
   "metadata": {},
   "outputs": [],
   "source": [
    "def pgn_to_move_list(string):\n",
    "    a = string.split(' { ')\n",
    "    a = [i.split(' } ')[1] if ' } ' in i else i for i in a]\n",
    "    a = a[:-1]\n",
    "    a = [i.split('... ')[-1] if '... ' in i else i.split('. ')[-1] for i in a]\n",
    "    return a"
   ]
  },
  {
   "cell_type": "code",
   "execution_count": null,
   "metadata": {},
   "outputs": [],
   "source": [
    "table_1['moves']=table_1['game'].apply(pgn_to_move_list)"
   ]
  },
  {
   "cell_type": "markdown",
   "metadata": {},
   "source": [
    "alculate the number of moves in a game"
   ]
  },
  {
   "cell_type": "code",
   "execution_count": null,
   "metadata": {},
   "outputs": [],
   "source": [
    "table_1['moves_count']=table_1['moves'].apply(lambda x : len(x))"
   ]
  },
  {
   "cell_type": "code",
   "execution_count": null,
   "metadata": {},
   "outputs": [],
   "source": [
    "for i in range(5):\n",
    "    table_1[f\"move {i+1}\"] = table_1['moves'].apply(lambda x : x[i] if i<len(x) else '-')\n",
    "table_1.drop(table_1['game'],inplace= True)       \n",
    "       \n",
    " #%%Table 2\n",
    "#dropping useless features\n",
    "col_to_drop = ['Unnamed: 0',  'Avg12M']\n",
    "table_2.drop(col_to_drop,axis=1,inplace=True)       \n",
    "#renaming columns\n",
    "new_col_name = [['name', 'fed', 'rating', 'birth_year']]      \n",
    "table_2.columns =  new_col_name    \n",
    "#turning avg_rating_over_12_months in an integer:"
   ]
  },
  {
   "cell_type": "markdown",
   "metadata": {},
   "source": [
    "% Table 3"
   ]
  },
  {
   "cell_type": "code",
   "execution_count": null,
   "metadata": {},
   "outputs": [],
   "source": [
    "table_1['ECO'].value_counts\n",
    "a = []\n",
    "table_1['ECO'].apply(lambda x : a.append(x))\n",
    "a = sorted(list(set(a)))\n",
    "b=[]\n",
    "table_3['ECO'].apply(lambda x : b.append(x))\n",
    "b = sorted(list(set(b)))\n",
    "c = [i for i in a if i not in b]"
   ]
  },
  {
   "cell_type": "markdown",
   "metadata": {},
   "source": [
    "% Table 4"
   ]
  },
  {
   "cell_type": "code",
   "execution_count": null,
   "metadata": {},
   "outputs": [],
   "source": [
    "table_4.drop('Unnamed: 0', axis = 1, inplace = True)"
   ]
  },
  {
   "cell_type": "markdown",
   "metadata": {},
   "source": [
    "% Save cleaned databases"
   ]
  },
  {
   "cell_type": "code",
   "execution_count": null,
   "metadata": {},
   "outputs": [],
   "source": [
    "table_1.to_csv('/Users/Baudouin/Desktop/Chess_exploration/dataset/table_1.csv')\n",
    "table_2.to_csv('/Users/Baudouin/Desktop/Chess_exploration/dataset/table_2.csv')\n",
    "table_3.to_csv('/Users/Baudouin/Desktop/Chess_exploration/dataset/table_3.csv')\n",
    "table_4.to_csv('/Users/Baudouin/Desktop/Chess_exploration/dataset/table_4.csv')"
   ]
  },
  {
   "cell_type": "code",
   "execution_count": 3,
   "metadata": {},
   "outputs": [],
   "source": [
    "fide = pd.read_excel('/Users/Baudouin/Desktop/Chess_exploration/dataset/fide_top_100.xlsx')"
   ]
  },
  {
   "cell_type": "code",
   "execution_count": 5,
   "metadata": {},
   "outputs": [
    {
     "data": {
      "text/html": [
       "<div>\n",
       "<style scoped>\n",
       "    .dataframe tbody tr th:only-of-type {\n",
       "        vertical-align: middle;\n",
       "    }\n",
       "\n",
       "    .dataframe tbody tr th {\n",
       "        vertical-align: top;\n",
       "    }\n",
       "\n",
       "    .dataframe thead th {\n",
       "        text-align: right;\n",
       "    }\n",
       "</style>\n",
       "<table border=\"1\" class=\"dataframe\">\n",
       "  <thead>\n",
       "    <tr style=\"text-align: right;\">\n",
       "      <th></th>\n",
       "      <th>Rank</th>\n",
       "      <th>Name</th>\n",
       "      <th>Fed</th>\n",
       "      <th>Rating</th>\n",
       "      <th>B-Year</th>\n",
       "      <th>player_id</th>\n",
       "    </tr>\n",
       "  </thead>\n",
       "  <tbody>\n",
       "    <tr>\n",
       "      <th>0</th>\n",
       "      <td>1</td>\n",
       "      <td>Carlsen, Magnus</td>\n",
       "      <td>NOR</td>\n",
       "      <td>2852</td>\n",
       "      <td>1990</td>\n",
       "      <td>MagnusCarlsen</td>\n",
       "    </tr>\n",
       "    <tr>\n",
       "      <th>1</th>\n",
       "      <td>2</td>\n",
       "      <td>Nepomniachtchi, Ian</td>\n",
       "      <td>RUS</td>\n",
       "      <td>2795</td>\n",
       "      <td>1990</td>\n",
       "      <td>lachesisQ</td>\n",
       "    </tr>\n",
       "    <tr>\n",
       "      <th>2</th>\n",
       "      <td>3</td>\n",
       "      <td>Ding, Liren</td>\n",
       "      <td>CHN</td>\n",
       "      <td>2788</td>\n",
       "      <td>1992</td>\n",
       "      <td>Chefshouse</td>\n",
       "    </tr>\n",
       "    <tr>\n",
       "      <th>3</th>\n",
       "      <td>4</td>\n",
       "      <td>Firouzja, Alireza</td>\n",
       "      <td>FRA</td>\n",
       "      <td>2785</td>\n",
       "      <td>2003</td>\n",
       "      <td>Firouzja2003</td>\n",
       "    </tr>\n",
       "    <tr>\n",
       "      <th>4</th>\n",
       "      <td>5</td>\n",
       "      <td>Giri, Anish</td>\n",
       "      <td>NED</td>\n",
       "      <td>2768</td>\n",
       "      <td>1994</td>\n",
       "      <td>AnishGiri</td>\n",
       "    </tr>\n",
       "  </tbody>\n",
       "</table>\n",
       "</div>"
      ],
      "text/plain": [
       "   Rank                 Name  Fed  Rating  B-Year      player_id\n",
       "0     1      Carlsen, Magnus  NOR    2852    1990  MagnusCarlsen\n",
       "1     2  Nepomniachtchi, Ian  RUS    2795    1990      lachesisQ\n",
       "2     3          Ding, Liren  CHN    2788    1992     Chefshouse\n",
       "3     4    Firouzja, Alireza  FRA    2785    2003   Firouzja2003\n",
       "4     5          Giri, Anish  NED    2768    1994      AnishGiri"
      ]
     },
     "execution_count": 5,
     "metadata": {},
     "output_type": "execute_result"
    }
   ],
   "source": [
    "fide.head()"
   ]
  },
  {
   "cell_type": "code",
   "execution_count": 6,
   "metadata": {},
   "outputs": [],
   "source": [
    "a = fide['Name'].tolist()"
   ]
  },
  {
   "cell_type": "code",
   "execution_count": 7,
   "metadata": {},
   "outputs": [
    {
     "data": {
      "text/plain": [
       "['Carlsen, Magnus',\n",
       " 'Nepomniachtchi, Ian',\n",
       " 'Ding, Liren',\n",
       " 'Firouzja, Alireza',\n",
       " 'Giri, Anish',\n",
       " 'Nakamura, Hikaru',\n",
       " 'Caruana, Fabiano',\n",
       " 'So, Wesley',\n",
       " 'Anand, Viswanathan',\n",
       " 'Radjabov, Teimour',\n",
       " 'Aronian, Levon',\n",
       " 'Rapport, Richard',\n",
       " 'Grischuk, Alexander',\n",
       " 'Dominguez Perez, Leinier',\n",
       " 'Mamedyarov, Shakhriyar',\n",
       " 'Vachier-Lagrave, Maxime',\n",
       " 'Abdusattorov, Nodirbek',\n",
       " 'Gukesh D',\n",
       " 'Vidit, Santosh Gujrathi',\n",
       " 'Andreikin, Dmitry',\n",
       " 'Yu, Yangyi',\n",
       " 'Le, Quang Liem',\n",
       " 'Topalov, Veselin',\n",
       " 'Maghsoodloo, Parham',\n",
       " 'Duda, Jan-Krzysztof',\n",
       " 'Vitiugov, Nikita',\n",
       " 'Wang, Hao',\n",
       " 'Wei, Yi',\n",
       " 'Sjugirov, Sanan',\n",
       " 'Shankland, Sam',\n",
       " 'Vallejo Pons, Francisco',\n",
       " 'Dubov, Daniil',\n",
       " 'Harikrishna, Pentala',\n",
       " 'Eljanov, Pavel',\n",
       " 'Robson, Ray',\n",
       " 'Artemiev, Vladislav',\n",
       " 'Erigaisi Arjun',\n",
       " 'Deac, Bogdan-Daniel',\n",
       " 'Keymer, Vincent',\n",
       " 'Sargissian, Gabriel',\n",
       " 'Bu, Xiangzhi',\n",
       " 'Tomashevsky, Evgeny',\n",
       " 'Amin, Bassem',\n",
       " 'Xiong, Jeffery',\n",
       " 'Praggnanandhaa R',\n",
       " 'Adams, Michael',\n",
       " 'Sevian, Samuel',\n",
       " 'Alekseenko, Kirill',\n",
       " 'Martirosyan, Haik M.',\n",
       " 'Navara, David',\n",
       " 'Anton Guijarro, David',\n",
       " 'Van Foreest, Jorden',\n",
       " 'Predke, Alexandr',\n",
       " 'Wojtaszek, Radoslaw',\n",
       " 'Esipenko, Andrey',\n",
       " 'Moussard, Jules',\n",
       " 'Salem, A.R. Saleh',\n",
       " 'Nihal Sarin',\n",
       " 'Tabatabaei, M. Amin',\n",
       " 'Saric, Ivan',\n",
       " 'Gelfand, Boris',\n",
       " 'Fedoseev, Vladimir',\n",
       " 'Kovalenko, Igor',\n",
       " 'Kasimdzhanov, Rustam',\n",
       " 'Naiditsch, Arkadij',\n",
       " 'Howell, David W L',\n",
       " 'Ni, Hua',\n",
       " 'Shevchenko, Kirill',\n",
       " 'Sarana, Alexey',\n",
       " 'Oparin, Grigoriy',\n",
       " 'Li, Chao b',\n",
       " 'Najer, Evgeniy',\n",
       " 'Narayanan.S.L',\n",
       " 'Ivanchuk, Vasyl',\n",
       " 'Kamsky, Gata',\n",
       " 'Matlakov, Maxim',\n",
       " 'Bluebaum, Matthias',\n",
       " 'Shirov, Alexei',\n",
       " 'Cheparinov, Ivan',\n",
       " 'Guseinov, Gadir',\n",
       " 'Inarkiev, Ernesto',\n",
       " 'Sindarov, Javokhir',\n",
       " 'Bacrot, Etienne',\n",
       " 'Korobov, Anton',\n",
       " 'Grandelius, Nils',\n",
       " 'Kasparov, Garry',\n",
       " 'Santos Latasa, Jaime',\n",
       " 'Nyzhnyk, Illya',\n",
       " 'Donchenko, Alexander',\n",
       " 'Nguyen, Thai Dai Van',\n",
       " 'Cori, Jorge',\n",
       " 'Malakhov, Vladimir',\n",
       " 'Tari, Aryan',\n",
       " 'Van Wely, Loek',\n",
       " 'Ma, Qun',\n",
       " 'Mamedov, Rauf',\n",
       " 'Swiercz, Dariusz']"
      ]
     },
     "execution_count": 7,
     "metadata": {},
     "output_type": "execute_result"
    }
   ],
   "source": [
    "a\n"
   ]
  },
  {
   "cell_type": "code",
   "execution_count": 8,
   "metadata": {},
   "outputs": [
    {
     "data": {
      "text/plain": [
       "['Magnus [Carlsen]',\n",
       " 'Ian [Nepomniachtchi]',\n",
       " 'Liren [Ding]',\n",
       " 'Alireza [Firouzja]',\n",
       " 'Anish [Giri]',\n",
       " 'Hikaru [Nakamura]',\n",
       " 'Fabiano [Caruana]',\n",
       " 'Wesley [So]',\n",
       " 'Viswanathan [Anand]',\n",
       " 'Teimour [Radjabov]',\n",
       " 'Levon [Aronian]',\n",
       " 'Richard [Rapport]',\n",
       " 'Alexander [Grischuk]',\n",
       " 'Perez] Leinier [Dominguez',\n",
       " 'Shakhriyar [Mamedyarov]',\n",
       " 'Maxime [Vachier-Lagrave]',\n",
       " 'Nodirbek [Abdusattorov]',\n",
       " 'D [Gukesh]',\n",
       " 'Santosh] Gujrathi [Vidit',\n",
       " 'Dmitry [Andreikin]',\n",
       " 'Yangyi [Yu]',\n",
       " 'Quang] Liem [Le',\n",
       " 'Veselin [Topalov]',\n",
       " 'Parham [Maghsoodloo]',\n",
       " 'Jan-Krzysztof [Duda]',\n",
       " 'Nikita [Vitiugov]',\n",
       " 'Hao [Wang]',\n",
       " 'Yi [Wei]',\n",
       " 'Sanan [Sjugirov]',\n",
       " 'Sam [Shankland]',\n",
       " 'Pons] Francisco [Vallejo',\n",
       " 'Daniil [Dubov]',\n",
       " 'Pentala [Harikrishna]',\n",
       " 'Pavel [Eljanov]',\n",
       " 'Ray [Robson]',\n",
       " 'Vladislav [Artemiev]',\n",
       " 'Arjun [Erigaisi]',\n",
       " 'Bogdan-Daniel [Deac]',\n",
       " 'Vincent [Keymer]',\n",
       " 'Gabriel [Sargissian]',\n",
       " 'Xiangzhi [Bu]',\n",
       " 'Evgeny [Tomashevsky]',\n",
       " 'Bassem [Amin]',\n",
       " 'Jeffery [Xiong]',\n",
       " 'R [Praggnanandhaa]',\n",
       " 'Michael [Adams]',\n",
       " 'Samuel [Sevian]',\n",
       " 'Kirill [Alekseenko]',\n",
       " 'Haik] M. [Martirosyan',\n",
       " 'David [Navara]',\n",
       " 'Guijarro] David [Anton',\n",
       " 'Foreest] Jorden [Van',\n",
       " 'Alexandr [Predke]',\n",
       " 'Radoslaw [Wojtaszek]',\n",
       " 'Andrey [Esipenko]',\n",
       " 'Jules [Moussard]',\n",
       " 'A.R.] Saleh [Salem',\n",
       " 'Sarin [Nihal]',\n",
       " 'M.] Amin [Tabatabaei',\n",
       " 'Ivan [Saric]',\n",
       " 'Boris [Gelfand]',\n",
       " 'Vladimir [Fedoseev]',\n",
       " 'Igor [Kovalenko]',\n",
       " 'Rustam [Kasimdzhanov]',\n",
       " 'Arkadij [Naiditsch]',\n",
       " 'W] David L [Howell',\n",
       " 'Hua [Ni]',\n",
       " 'Kirill [Shevchenko]',\n",
       " 'Alexey [Sarana]',\n",
       " 'Grigoriy [Oparin]',\n",
       " 'Chao] b [Li',\n",
       " 'Evgeniy [Najer]',\n",
       " 'Narayanan.S.L []',\n",
       " 'Vasyl [Ivanchuk]',\n",
       " 'Gata [Kamsky]',\n",
       " 'Maxim [Matlakov]',\n",
       " 'Matthias [Bluebaum]',\n",
       " 'Alexei [Shirov]',\n",
       " 'Ivan [Cheparinov]',\n",
       " 'Gadir [Guseinov]',\n",
       " 'Ernesto [Inarkiev]',\n",
       " 'Javokhir [Sindarov]',\n",
       " 'Etienne [Bacrot]',\n",
       " 'Anton [Korobov]',\n",
       " 'Nils [Grandelius]',\n",
       " 'Garry [Kasparov]',\n",
       " 'Latasa] Jaime [Santos',\n",
       " 'Illya [Nyzhnyk]',\n",
       " 'Alexander [Donchenko]',\n",
       " 'Dai] Thai Van [Nguyen',\n",
       " 'Jorge [Cori]',\n",
       " 'Vladimir [Malakhov]',\n",
       " 'Aryan [Tari]',\n",
       " 'Wely] Loek [Van',\n",
       " 'Qun [Ma]',\n",
       " 'Rauf [Mamedov]',\n",
       " 'Dariusz [Swiercz]']"
      ]
     },
     "execution_count": 8,
     "metadata": {},
     "output_type": "execute_result"
    }
   ],
   "source": [
    "a = [' '.join(x.split(', ')) if ', ' in x else x for x in a ]\n",
    "a = [f\"{x.split(' ')[-1]} {x.split(' ')[0:-1]}\" for x in a]\n",
    "a = [' '.join(x.split(', ')[::-1]).replace(\"'\",'') for x in a]\n",
    "a"
   ]
  },
  {
   "cell_type": "code",
   "execution_count": 11,
   "metadata": {},
   "outputs": [],
   "source": [
    "fide['gm_id']=fide['Name'].apply(lambda x : \" \".join([x.split(',')[1],x.split(',')[0]]) if ',' in x else x)\n"
   ]
  },
  {
   "cell_type": "code",
   "execution_count": 14,
   "metadata": {},
   "outputs": [
    {
     "data": {
      "text/html": [
       "<div>\n",
       "<style scoped>\n",
       "    .dataframe tbody tr th:only-of-type {\n",
       "        vertical-align: middle;\n",
       "    }\n",
       "\n",
       "    .dataframe tbody tr th {\n",
       "        vertical-align: top;\n",
       "    }\n",
       "\n",
       "    .dataframe thead th {\n",
       "        text-align: right;\n",
       "    }\n",
       "</style>\n",
       "<table border=\"1\" class=\"dataframe\">\n",
       "  <thead>\n",
       "    <tr style=\"text-align: right;\">\n",
       "      <th></th>\n",
       "      <th>Rank</th>\n",
       "      <th>Fed</th>\n",
       "      <th>Rating</th>\n",
       "      <th>B-Year</th>\n",
       "      <th>player_id</th>\n",
       "      <th>gm_id</th>\n",
       "    </tr>\n",
       "  </thead>\n",
       "  <tbody>\n",
       "    <tr>\n",
       "      <th>0</th>\n",
       "      <td>1</td>\n",
       "      <td>NOR</td>\n",
       "      <td>2852</td>\n",
       "      <td>1990</td>\n",
       "      <td>MagnusCarlsen</td>\n",
       "      <td>Magnus Carlsen</td>\n",
       "    </tr>\n",
       "    <tr>\n",
       "      <th>1</th>\n",
       "      <td>2</td>\n",
       "      <td>RUS</td>\n",
       "      <td>2795</td>\n",
       "      <td>1990</td>\n",
       "      <td>lachesisQ</td>\n",
       "      <td>Ian Nepomniachtchi</td>\n",
       "    </tr>\n",
       "    <tr>\n",
       "      <th>2</th>\n",
       "      <td>3</td>\n",
       "      <td>CHN</td>\n",
       "      <td>2788</td>\n",
       "      <td>1992</td>\n",
       "      <td>Chefshouse</td>\n",
       "      <td>Liren Ding</td>\n",
       "    </tr>\n",
       "    <tr>\n",
       "      <th>3</th>\n",
       "      <td>4</td>\n",
       "      <td>FRA</td>\n",
       "      <td>2785</td>\n",
       "      <td>2003</td>\n",
       "      <td>Firouzja2003</td>\n",
       "      <td>Alireza Firouzja</td>\n",
       "    </tr>\n",
       "    <tr>\n",
       "      <th>4</th>\n",
       "      <td>5</td>\n",
       "      <td>NED</td>\n",
       "      <td>2768</td>\n",
       "      <td>1994</td>\n",
       "      <td>AnishGiri</td>\n",
       "      <td>Anish Giri</td>\n",
       "    </tr>\n",
       "  </tbody>\n",
       "</table>\n",
       "</div>"
      ],
      "text/plain": [
       "   Rank  Fed  Rating  B-Year      player_id                gm_id\n",
       "0     1  NOR    2852    1990  MagnusCarlsen       Magnus Carlsen\n",
       "1     2  RUS    2795    1990      lachesisQ   Ian Nepomniachtchi\n",
       "2     3  CHN    2788    1992     Chefshouse           Liren Ding\n",
       "3     4  FRA    2785    2003   Firouzja2003     Alireza Firouzja\n",
       "4     5  NED    2768    1994      AnishGiri           Anish Giri"
      ]
     },
     "execution_count": 14,
     "metadata": {},
     "output_type": "execute_result"
    }
   ],
   "source": [
    "fide.head()"
   ]
  },
  {
   "cell_type": "code",
   "execution_count": 13,
   "metadata": {},
   "outputs": [],
   "source": [
    "fide = fide.drop('Name',axis=1)"
   ]
  },
  {
   "cell_type": "code",
   "execution_count": 15,
   "metadata": {},
   "outputs": [],
   "source": [
    "fide.to_csv('/Users/Baudouin/Desktop/Chess_exploration/dataset/fide_top_100.csv',index = False)"
   ]
  },
  {
   "cell_type": "code",
   "execution_count": null,
   "metadata": {},
   "outputs": [],
   "source": []
  }
 ],
 "metadata": {
  "kernelspec": {
   "display_name": "Python 3 (ipykernel)",
   "language": "python",
   "name": "python3"
  },
  "language_info": {
   "codemirror_mode": {
    "name": "ipython",
    "version": 3
   },
   "file_extension": ".py",
   "mimetype": "text/x-python",
   "name": "python",
   "nbconvert_exporter": "python",
   "pygments_lexer": "ipython3",
   "version": "3.9.16"
  }
 },
 "nbformat": 4,
 "nbformat_minor": 2
}
